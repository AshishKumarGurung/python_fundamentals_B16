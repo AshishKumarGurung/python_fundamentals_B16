{
 "cells": [
  {
   "cell_type": "markdown",
   "metadata": {},
   "source": [
    "Introduction to if conditional statements:"
   ]
  },
  {
   "cell_type": "code",
   "execution_count": 1,
   "metadata": {},
   "outputs": [
    {
     "name": "stdout",
     "output_type": "stream",
     "text": [
      "['bahubali', 'ddlj', 'kabirsingh', 'gullyboy', 'dj']\n"
     ]
    }
   ],
   "source": [
    "movies = ['bahubali','ddlj','kabirsingh','gullyboy','dj']\n",
    "print(movies)"
   ]
  },
  {
   "cell_type": "markdown",
   "metadata": {},
   "source": [
    "req: bahubali print it in a upper case and all others should be in title case."
   ]
  },
  {
   "cell_type": "markdown",
   "metadata": {},
   "source": [
    "if condition are used to validate the condition of a program."
   ]
  },
  {
   "cell_type": "markdown",
   "metadata": {},
   "source": [
    "= only single means you are assigning something\n",
    "\n",
    "== testing the equality"
   ]
  },
  {
   "cell_type": "code",
   "execution_count": 2,
   "metadata": {},
   "outputs": [
    {
     "name": "stdout",
     "output_type": "stream",
     "text": [
      "BAHUBALI\n",
      "Ddlj\n",
      "Kabirsingh\n",
      "Gullyboy\n",
      "Dj\n"
     ]
    }
   ],
   "source": [
    "for movie in movies:\n",
    "    if movie == 'bahubali': #equality testing\n",
    "        print(movie.upper())\n",
    "    else:\n",
    "        print(movie.title())\n"
   ]
  },
  {
   "cell_type": "markdown",
   "metadata": {},
   "source": [
    "user accepted input:"
   ]
  },
  {
   "cell_type": "markdown",
   "metadata": {},
   "source": [
    "Typecasting of data type:\n",
    "basically we have to convert the data type to another data type."
   ]
  },
  {
   "cell_type": "code",
   "execution_count": 3,
   "metadata": {},
   "outputs": [
    {
     "name": "stdout",
     "output_type": "stream",
     "text": [
      "enter your age:10\n",
      "you are not an adult not eligible for vote\n"
     ]
    }
   ],
   "source": [
    "age = int(input('enter your age:'))\n",
    "if age >= 18:\n",
    "    print('you are an adult eligible for vote')\n",
    "else:\n",
    "    print('you are not an adult not eligible for vote')"
   ]
  },
  {
   "cell_type": "code",
   "execution_count": 4,
   "metadata": {},
   "outputs": [
    {
     "name": "stdout",
     "output_type": "stream",
     "text": [
      "please enter your name: ashish\n",
      "\n",
      " Donot go outside admist lockdown Ashish\n"
     ]
    }
   ],
   "source": [
    "name = input('please enter your name: ')\n",
    "print(f\"\\n Donot go outside admist lockdown {name.title()}\")"
   ]
  },
  {
   "cell_type": "code",
   "execution_count": 5,
   "metadata": {},
   "outputs": [
    {
     "name": "stdout",
     "output_type": "stream",
     "text": [
      "please input your height: 12\n",
      "12\n"
     ]
    }
   ],
   "source": [
    "height = input('please input your height: ')\n",
    "print(height)"
   ]
  },
  {
   "cell_type": "code",
   "execution_count": 6,
   "metadata": {},
   "outputs": [
    {
     "name": "stdout",
     "output_type": "stream",
     "text": [
      "please input your height: 14\n",
      "you are selected\n"
     ]
    }
   ],
   "source": [
    "height = int(input('please input your height: ')) \n",
    "if height >= 5:\n",
    "    print('you are selected')\n",
    "else:\n",
    "    print('you are not selected')"
   ]
  },
  {
   "cell_type": "code",
   "execution_count": 12,
   "metadata": {},
   "outputs": [
    {
     "ename": "SyntaxError",
     "evalue": "unexpected character after line continuation character (<ipython-input-12-bce745d9e0b6>, line 3)",
     "output_type": "error",
     "traceback": [
      "\u001b[1;36m  File \u001b[1;32m\"<ipython-input-12-bce745d9e0b6>\"\u001b[1;36m, line \u001b[1;32m3\u001b[0m\n\u001b[1;33m    print(\\n'Go to gym')\u001b[0m\n\u001b[1;37m                        ^\u001b[0m\n\u001b[1;31mSyntaxError\u001b[0m\u001b[1;31m:\u001b[0m unexpected character after line continuation character\n"
     ]
    }
   ],
   "source": [
    "age = int(input('how old are you'))\n",
    "if age >= 18:\n",
    "    print('\\nGo to gym')\n",
    "else:\n",
    "    print('\\nDonot go to gym')"
   ]
  },
  {
   "cell_type": "code",
   "execution_count": 11,
   "metadata": {},
   "outputs": [
    {
     "name": "stdout",
     "output_type": "stream",
     "text": [
      "Invalid User\n"
     ]
    }
   ],
   "source": [
    "username = \"user\"\n",
    "password = \"admin123\"\n",
    "if username == \"admin\" and password == \"admin123\":\n",
    "    print(\"Valid User\")\n",
    "else:\n",
    "    print(\"Invalid User\")"
   ]
  },
  {
   "cell_type": "code",
   "execution_count": null,
   "metadata": {},
   "outputs": [],
   "source": []
  },
  {
   "cell_type": "code",
   "execution_count": null,
   "metadata": {},
   "outputs": [],
   "source": []
  }
 ],
 "metadata": {
  "kernelspec": {
   "display_name": "Python 3",
   "language": "python",
   "name": "python3"
  },
  "language_info": {
   "codemirror_mode": {
    "name": "ipython",
    "version": 3
   },
   "file_extension": ".py",
   "mimetype": "text/x-python",
   "name": "python",
   "nbconvert_exporter": "python",
   "pygments_lexer": "ipython3",
   "version": "3.7.6"
  }
 },
 "nbformat": 4,
 "nbformat_minor": 4
}
