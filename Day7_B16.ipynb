{
 "cells": [
  {
   "cell_type": "markdown",
   "metadata": {},
   "source": [
    "Introduction to if conditional statements:"
   ]
  },
  {
   "cell_type": "code",
   "execution_count": 3,
   "metadata": {},
   "outputs": [
    {
     "name": "stdout",
     "output_type": "stream",
     "text": [
      "['bahubali', 'ddlj', 'kabirsingh', 'gullyboy', 'dj']\n"
     ]
    }
   ],
   "source": [
    "movies = ['bahubali','ddlj','kabirsingh','gullyboy','dj']\n",
    "print(movies)"
   ]
  },
  {
   "cell_type": "markdown",
   "metadata": {},
   "source": [
    "req: bahubali print it in a upper case and all others should be in title case."
   ]
  },
  {
   "cell_type": "markdown",
   "metadata": {},
   "source": [
    "if condition are used to validate the condition of a program."
   ]
  },
  {
   "cell_type": "markdown",
   "metadata": {},
   "source": [
    "= only single means you are assigning something\n",
    "\n",
    "== testing the equality"
   ]
  },
  {
   "cell_type": "code",
   "execution_count": 4,
   "metadata": {},
   "outputs": [
    {
     "name": "stdout",
     "output_type": "stream",
     "text": [
      "BAHUBALI\n",
      "Ddlj\n",
      "Kabirsingh\n",
      "Gullyboy\n",
      "Dj\n"
     ]
    }
   ],
   "source": [
    "for movie in movies:\n",
    "    if movie == 'bahubali': #equality testing\n",
    "        print(movie.upper())\n",
    "    else:\n",
    "        print(movie.title())\n"
   ]
  },
  {
   "cell_type": "markdown",
   "metadata": {},
   "source": [
    "user accepted input:"
   ]
  },
  {
   "cell_type": "markdown",
   "metadata": {},
   "source": [
    "Typecasting of data type:\n",
    "basically we have to convert the data type to another data type."
   ]
  },
  {
   "cell_type": "code",
   "execution_count": 17,
   "metadata": {},
   "outputs": [
    {
     "name": "stdout",
     "output_type": "stream",
     "text": [
      "enter your age:8\n",
      "you are not an adult not eligible for vote\n"
     ]
    }
   ],
   "source": [
    "age = int(input('enter your age:'))\n",
    "if age >= 18:\n",
    "    print('you are an adult eligible for vote')\n",
    "else:\n",
    "    print('you are not an adult not eligible for vote')"
   ]
  },
  {
   "cell_type": "code",
   "execution_count": 11,
   "metadata": {},
   "outputs": [
    {
     "name": "stdout",
     "output_type": "stream",
     "text": [
      "please enter your name: ashish\n",
      "\n",
      " Donot go outside admist lockdown Ashish\n"
     ]
    }
   ],
   "source": [
    "name = input('please enter your name: ')\n",
    "print(f\"\\n Donot go outside admist lockdown {name.title()}\")"
   ]
  },
  {
   "cell_type": "code",
   "execution_count": null,
   "metadata": {},
   "outputs": [],
   "source": [
    "height = input('please input your height: ')\n",
    "print(height)"
   ]
  },
  {
   "cell_type": "code",
   "execution_count": null,
   "metadata": {},
   "outputs": [],
   "source": [
    "height = int(input('please input your height: ')) \n",
    "if height >= 5:\n",
    "    print('you are selected')\n",
    "else:\n",
    "    print('you are not selected')"
   ]
  },
  {
   "cell_type": "code",
   "execution_count": null,
   "metadata": {},
   "outputs": [],
   "source": [
    "age = input('how old are you')\n",
    "age = int(age)\n",
    "if age >= 18:\n",
    "    print(\\'Go to gym')\n",
    "else:\n",
    "    print(\\'Donot go to gym')"
   ]
  },
  {
   "cell_type": "code",
   "execution_count": null,
   "metadata": {},
   "outputs": [],
   "source": [
    "username = \"user\"\n",
    "password = \"admin123\"\n",
    "if username == \"admin\" and password == \"admin\":\n",
    "    print(\"Valid User\")\n",
    "else:\n",
    "    print(\"Invalid User\")"
   ]
  },
  {
   "cell_type": "code",
   "execution_count": null,
   "metadata": {},
   "outputs": [],
   "source": []
  },
  {
   "cell_type": "code",
   "execution_count": null,
   "metadata": {},
   "outputs": [],
   "source": []
  }
 ],
 "metadata": {
  "kernelspec": {
   "display_name": "Python 3",
   "language": "python",
   "name": "python3"
  },
  "language_info": {
   "codemirror_mode": {
    "name": "ipython",
    "version": 3
   },
   "file_extension": ".py",
   "mimetype": "text/x-python",
   "name": "python",
   "nbconvert_exporter": "python",
   "pygments_lexer": "ipython3",
   "version": "3.7.6"
  }
 },
 "nbformat": 4,
 "nbformat_minor": 4
}
